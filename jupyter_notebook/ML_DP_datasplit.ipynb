{
  "nbformat": 4,
  "nbformat_minor": 0,
  "metadata": {
    "colab": {
      "provenance": []
    },
    "kernelspec": {
      "name": "python3",
      "display_name": "Python 3"
    },
    "language_info": {
      "name": "python"
    }
  },
  "cells": [
    {
      "cell_type": "code",
      "execution_count": 1,
      "metadata": {
        "id": "4nYPyMYiEN_9"
      },
      "outputs": [],
      "source": [
        "import os\n",
        "import random\n",
        "import shutil"
      ]
    },
    {
      "cell_type": "code",
      "source": [
        "def data_split(image_folder, train_folder, test_folder, validation_folder):\n",
        "    # Create the train, test, and validation folders\n",
        "    os.makedirs(train_folder, exist_ok=True)\n",
        "    os.makedirs(test_folder, exist_ok=True)\n",
        "    os.makedirs(validation_folder, exist_ok=True)\n",
        "\n",
        "    # Get the list of subfolders (image classes)\n",
        "    subfolders = os.listdir(image_folder)\n",
        "\n",
        "    # Iterate over each subfolder\n",
        "    for subfolder in subfolders:\n",
        "        class_folder = os.path.join(image_folder, subfolder)\n",
        "\n",
        "        # Retrieve the list of image files in the current class folder\n",
        "        image_files = os.listdir(class_folder)\n",
        "\n",
        "        # Shuffle the list randomly\n",
        "        random.shuffle(image_files)\n",
        "\n",
        "        # Calculate the number of images for each set\n",
        "        total_images = len(image_files)\n",
        "        train_count = int(0.8 * total_images)\n",
        "        test_count = int(0.1 * total_images)\n",
        "        validation_count = total_images - train_count - test_count\n",
        "\n",
        "        # Create subdirectories in train, test, and validation folders\n",
        "        train_class_folder = os.path.join(train_folder, subfolder)\n",
        "        test_class_folder = os.path.join(test_folder, subfolder)\n",
        "        validation_class_folder = os.path.join(validation_folder, subfolder)\n",
        "        os.makedirs(train_class_folder, exist_ok=True)\n",
        "        os.makedirs(test_class_folder, exist_ok=True)\n",
        "        os.makedirs(validation_class_folder, exist_ok=True)\n",
        "\n",
        "        # Copy or move images to the respective folders\n",
        "        for i, file_name in enumerate(image_files):\n",
        "            src_path = os.path.join(class_folder, file_name)\n",
        "            if i < train_count:\n",
        "                dst_path = os.path.join(train_class_folder, file_name)\n",
        "            elif i < train_count + test_count:\n",
        "                dst_path = os.path.join(test_class_folder, file_name)\n",
        "            else:\n",
        "                dst_path = os.path.join(validation_class_folder, file_name)\n",
        "            shutil.copy(src_path, dst_path)"
      ],
      "metadata": {
        "id": "aQXRt7jBE5Td"
      },
      "execution_count": 2,
      "outputs": []
    },
    {
      "cell_type": "code",
      "source": [
        "img_folder = \"/content/drive/MyDrive/pyrack/data/footwear Images\"\n",
        "train_folder = \"/content/drive/MyDrive/pyrack/data/train\"\n",
        "test_folder = \"/content/drive/MyDrive/pyrack/data/test\"\n",
        "valid_folder = \"/content/drive/MyDrive/pyrack/data/valid\"\n",
        "data_split(img_folder, train_folder, test_folder, valid_folder)"
      ],
      "metadata": {
        "id": "4xIIt7nMFAXt"
      },
      "execution_count": 3,
      "outputs": []
    },
    {
      "cell_type": "code",
      "source": [],
      "metadata": {
        "id": "W35rWKymMpF0"
      },
      "execution_count": null,
      "outputs": []
    }
  ]
}